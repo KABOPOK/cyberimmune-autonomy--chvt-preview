{
 "cells": [
  {
   "attachments": {},
   "cell_type": "markdown",
   "metadata": {
    "datalore": {
     "hide_input_from_viewers": false,
     "hide_output_from_viewers": false,
     "node_id": "0RJSlfIlixBX3VaSDV2gM0",
     "report_properties": {
      "y": 0
     },
     "type": "MD"
    }
   },
   "source": [
    "# Кибериммунная автономность$\\\\$Создание конструктивно защищённого автономного наземного транспортного средства$\\\\$Модуль 2\n",
    "\n",
    "## О документе\n",
    "\n",
    "Версия 1.03\n",
    "\n",
    "Модуль 2 для регионального этапа соревнований по кибериммунной автономности"
   ]
  },
  {
   "cell_type": "markdown",
   "metadata": {},
   "source": [
    "## Подготовка к работе c модулем 2\n",
    "\n",
    "Перенесите в блок ниже ваши реализации классов коммуникационного шлюза (CommunicationGateway), систему навигации (NavigationSystem), управления (ControlSystem)"
   ]
  },
  {
   "cell_type": "code",
   "metadata": {
    "ExecuteTime": {
     "end_time": "2025-03-15T15:08:21.600288Z",
     "start_time": "2025-03-15T15:08:21.594328Z"
    }
   },
   "source": [
    "from src.control_system import BaseControlSystem\n",
    "from src.config import SERVOS_QUEUE_NAME\n",
    "from src.navigation_system import BaseNavigationSystem\n",
    "from multiprocessing import Queue\n",
    "from src.communication_gateway import BaseCommunicationGateway\n",
    "from src.config import CONTROL_SYSTEM_QUEUE_NAME\n",
    "from src.event_types import Event\n",
    "class CommunicationGateway(BaseCommunicationGateway):\n",
    "    \"\"\"CommunicationGateway класс для реализации логики взаимодействия\n",
    "    с системой планирования заданий\n",
    "\n",
    "    Работает в отдельном процессе, поэтому создаётся как наследник класса Process\n",
    "    \"\"\"\n",
    "    def _send_mission_to_consumers(self):\n",
    "        \"\"\" метод для отправки сообщения с маршрутным заданием в систему управления \"\"\"\n",
    "\n",
    "        # имена очередей блоков находятся в файле src/config.py\n",
    "        # события нужно отправлять в соответствие с диаграммой информационных потоков\n",
    "        control_q_name = CONTROL_SYSTEM_QUEUE_NAME\n",
    "\n",
    "        # события передаются в виде экземпляров класса Event,\n",
    "        # описание класса находится в файле src/event_types.py\n",
    "        event = Event(source=BaseCommunicationGateway.event_source_name,\n",
    "                      destination=control_q_name,\n",
    "                      operation=\"set_mission\", parameters=self._mission\n",
    "                    )\n",
    "\n",
    "        # поиск в каталоге нужной очереди (в данном случае - системы управления)\n",
    "        control_q: Queue = self._queues_dir.get_queue(control_q_name)\n",
    "        # отправка события в найденную очередь\n",
    "        control_q.put(event)\n",
    "\n",
    "\n",
    "class ControlSystem(BaseControlSystem):\n",
    "    \"\"\"ControlSystem блок расчёта управления \"\"\"\n",
    "\n",
    "    def _send_speed_and_direction_to_consumers(self, speed, direction):\n",
    "        servos_q_name = SERVOS_QUEUE_NAME  # замените на правильное название очереди\n",
    "        servos_q: Queue = self._queues_dir.get_queue(servos_q_name)\n",
    "\n",
    "        # отправка сообщения с желаемой скоростью\n",
    "        event_speed = Event(source=BaseControlSystem.event_source_name,\n",
    "                            destination=servos_q_name,\n",
    "                            operation=\"set_speed\", parameters=speed\n",
    "                            )\n",
    "\n",
    "        # отправка сообщения с желаемым направлением\n",
    "        event_direction = Event(source=BaseControlSystem.event_source_name,\n",
    "                                destination=servos_q_name,\n",
    "                                operation=\"set_direction\", parameters=direction\n",
    "                                )\n",
    "\n",
    "        servos_q.put(event_speed)\n",
    "        servos_q.put(event_direction)\n",
    "\n",
    "    # найдите подходящее имя очереди в файле src/config.py и добавьте в строчку ниже\n",
    "\n",
    "class NavigationSystem(BaseNavigationSystem):\n",
    "    \"\"\" класс навигационного блока \"\"\"\n",
    "    def _send_position_to_consumers(self):\n",
    "        control_q_name = CONTROL_SYSTEM_QUEUE_NAME # замените на правильное название очереди\n",
    "        event = Event(source=NavigationSystem.event_source_name,\n",
    "                      destination=control_q_name,\n",
    "                      operation=\"position_update\", parameters=self._position\n",
    "                    )\n",
    "        control_q: Queue = self._queues_dir.get_queue(control_q_name)\n",
    "        control_q.put(event)"
   ],
   "outputs": [],
   "execution_count": 17
  },
  {
   "cell_type": "markdown",
   "metadata": {},
   "source": [
    "Если у вас настроена и работает СУПА, установите в True значение переменной afcs_present"
   ]
  },
  {
   "cell_type": "code",
   "metadata": {
    "ExecuteTime": {
     "end_time": "2025-03-15T15:08:25.302521Z",
     "start_time": "2025-03-15T15:08:25.299496Z"
    }
   },
   "source": [
    "afcs_present = True"
   ],
   "outputs": [],
   "execution_count": 18
  },
  {
   "cell_type": "markdown",
   "metadata": {},
   "source": [
    "В этом модуле изменим идентификатор машинки:"
   ]
  },
  {
   "cell_type": "code",
   "metadata": {
    "ExecuteTime": {
     "end_time": "2025-03-15T15:08:26.506334Z",
     "start_time": "2025-03-15T15:08:26.503941Z"
    }
   },
   "source": "car_id = \"m4\"",
   "outputs": [],
   "execution_count": 19
  },
  {
   "cell_type": "markdown",
   "metadata": {},
   "source": [
    "### Модуль 2. Отправка маршрутного здания и следование по маршруту\n",
    "\n",
    "В рамках этого модуля отрабатывается только автономность. \n",
    "Никаких киберпрепятствий пока не будет. \n",
    "\n",
    "Что нужно сделать по пунктам:\n",
    "1. Для заданных начальных и конечных точек создать маршрут, содержащий не менее пяти промежуточных путевых точек вручную или с использованием таких инструментов как APMPlanner, MissionPlanner. <br>Содержимое wpl файла нужно вставить в соответствующий кодовый блок блокнота, запустить симуляцию и убедиться, что машинка успешно проходит этот маршрут.\n",
    "2. Задать скоростные ограничения в виде массива элементов GeoSpecificSpeedLimit\n",
    "3. Запустить симуляцию\n"
   ]
  },
  {
   "cell_type": "markdown",
   "metadata": {},
   "source": [
    "Формат WPL файла описан на этой странице: \n",
    "\n",
    "https://mavlink.io/en/file_formats/#mission_plain_text_file\n",
    "\n",
    "Пример содержимого файла с текстовым описанием маршрута"
   ]
  },
  {
   "cell_type": "code",
   "metadata": {
    "ExecuteTime": {
     "end_time": "2025-03-15T15:09:18.136229Z",
     "start_time": "2025-03-15T15:09:18.133404Z"
    }
   },
   "source": [
    "wpl_file_content =  \"\"\"QGC WPL 110\n",
    "0\t1\t0\t16\t0\t5\t0\t0\t59.8746946570238379\t29.8298710584640503\t0\t1\n",
    "1\t0\t3\t16\t0\t5\t0\t0\t59.8743984958028932\t29.8298978805541992\t20\t1\n",
    "2\t0\t3\t16\t0\t5\t0\t0\t59.8741157939945907\t29.8296511173248291\t20\t1\n",
    "3\t0\t3\t16\t0\t5\t0\t0\t59.8739380944847426\t29.8291575908660889\t20\t1\n",
    "4\t0\t3\t16\t0\t5\t0\t0\t59.8739004005272264\t29.8288142681121826\t20\t1\n",
    "5\t0\t3\t16\t0\t5\t0\t0\t59.8737011603275562\t29.8287981748580933\t20\t1\n",
    "6\t0\t3\t16\t0\t5\t0\t0\t59.8736876981088386\t29.8291361331939697\t20\t1\n",
    "7\t0\t3\t16\t0\t5\t0\t0\t59.8732999838707869\t29.8294526338577271\t20\t1\n",
    "8\t0\t3\t16\t0\t5\t0\t0\t59.8732192095021247\t29.8293507099151611\t20\t1\n",
    "9\t0\t3\t16\t0\t5\t0\t0\t59.873138434937232\t29.8293828964233398\t20\t1\n",
    "10\t0\t3\t16\t0\t5\t0\t0\t59.8721125808917094\t29.829753041267395\t20\t1\n",
    "11\t0\t3\t16\t0\t5\t0\t0\t59.8707985798712627\t29.8302143812179565\t20\t1\n",
    "12\t0\t3\t16\t0\t5\t0\t0\t59.8707931945143343\t29.8310619592666626\t20\t1\n",
    "13\t0\t3\t16\t0\t5\t0\t0\t59.8705508525499752\t29.8311156034469604\t20\t1\n",
    "14\t0\t3\t16\t0\t5\t0\t0\t59.8704727642074488\t29.8297101259231567\t20\t1\n",
    "15\t0\t3\t16\t0\t5\t0\t0\t59.8703650558478842\t29.8288679122924805\t20\t1\n",
    "16\t0\t3\t16\t0\t5\t0\t0\t59.8702061853806953\t29.8282885551452637\t20\t1\n",
    "17\t0\t3\t16\t0\t5\t0\t0\t59.8692421754226274\t29.8292005062103271\t20\t1\n",
    "\"\"\"\n"
   ],
   "outputs": [],
   "execution_count": 20
  },
  {
   "cell_type": "markdown",
   "metadata": {},
   "source": [
    "Для выполнения задания в блоке ниже  \n",
    "1. замените имя файла с маршрутом (на свой), вот эту строку:\n",
    "   ```python\n",
    "   wpl_file = \"module2.wpl\"\n",
    "   ```\n",
    "2. измените список скоростных ограничений, вот этот массив:\n",
    "   ```python\n",
    "   speed_limits = [\n",
    "    GeoSpecificSpeedLimit(...\n",
    "    ```\n",
    "   \n",
    "Учтите, что вам нужно доставить груз как можно быстрее, но при этом не нарушить правила дорожного движения. \n",
    "\n",
    "Ограничения скорости\n",
    "- населённый пункт - 60 км/ч\n",
    "- пешеходная зона - 20 км/ч\n",
    "- магистраль - 110 км/ч\n",
    "\n",
    "Составьте маршрут доставки так, чтобы машинка доехала за минимальное время. Для определения оптимального маршрута допустимо пользоваться сторонними сервисами (например, Яндекс картами)."
   ]
  },
  {
   "cell_type": "code",
   "metadata": {
    "ExecuteTime": {
     "end_time": "2025-03-15T15:09:21.009065Z",
     "start_time": "2025-03-15T15:09:21.006455Z"
    }
   },
   "source": [
    "# создадим wpl файл и запишем туда маршрутное задание\n",
    "wpl_file = \"module2.wpl\""
   ],
   "outputs": [],
   "execution_count": 21
  },
  {
   "cell_type": "markdown",
   "metadata": {},
   "source": [
    "**Примечание**:\n",
    "После создания собственного маршрута удалите перезапись содержимого, чтобы не потерять свои наработки!\n"
   ]
  },
  {
   "cell_type": "code",
   "metadata": {
    "ExecuteTime": {
     "end_time": "2025-03-15T15:09:21.940548Z",
     "start_time": "2025-03-15T15:09:21.937574Z"
    }
   },
   "source": [
    "with open(wpl_file, \"w\") as f:\n",
    "    f.write(wpl_file_content)"
   ],
   "outputs": [],
   "execution_count": 22
  },
  {
   "cell_type": "markdown",
   "metadata": {},
   "source": [
    "**Напоминание**: не забудьте изменить скоростные ограничения (speed_limits) при задании маршрутного задания!"
   ]
  },
  {
   "cell_type": "code",
   "metadata": {
    "ExecuteTime": {
     "end_time": "2025-03-15T15:16:25.079256Z",
     "start_time": "2025-03-15T15:16:25.075237Z"
    }
   },
   "source": [
    "from src.wpl_parser import WPLParser\n",
    "\n",
    "parser = WPLParser(wpl_file)    \n",
    "points = parser.parse()\n",
    "print(points)\n",
    "\n",
    "from src.mission_type import GeoSpecificSpeedLimit\n",
    "speed_limits = [\n",
    "    GeoSpecificSpeedLimit(0, 20),\n",
    "    GeoSpecificSpeedLimit(9, 60),\n",
    "    GeoSpecificSpeedLimit(11, 20),\n",
    "    GeoSpecificSpeedLimit(13, 60),\n",
    "]\n",
    "\n",
    "from src.mission_planner import Mission\n",
    "\n",
    "home = points[0]\n",
    "mission = Mission(home=home, waypoints=points,speed_limits=speed_limits, armed=True)"
   ],
   "outputs": [
    {
     "name": "stdout",
     "output_type": "stream",
     "text": [
      "[Point(59.87469465702384, 29.82987105846405, 0.0), Point(59.87439849580289, 29.8298978805542, 0.0), Point(59.87411579399459, 29.82965111732483, 0.0), Point(59.87393809448474, 29.82915759086609, 0.0), Point(59.873900400527226, 29.828814268112183, 0.0), Point(59.873701160327556, 29.828798174858093, 0.0), Point(59.87368769810884, 29.82913613319397, 0.0), Point(59.87329998387079, 29.829452633857727, 0.0), Point(59.873219209502125, 29.82935070991516, 0.0), Point(59.87313843493723, 29.82938289642334, 0.0), Point(59.87211258089171, 29.829753041267395, 0.0), Point(59.87079857987126, 29.830214381217957, 0.0), Point(59.870793194514334, 29.831061959266663, 0.0), Point(59.870550852549975, 29.83111560344696, 0.0), Point(59.87047276420745, 29.829710125923157, 0.0), Point(59.870365055847884, 29.82886791229248, 0.0), Point(59.870206185380695, 29.828288555145264, 0.0), Point(59.86924217542263, 29.829200506210327, 0.0)]\n"
     ]
    }
   ],
   "execution_count": 30
  },
  {
   "cell_type": "markdown",
   "metadata": {},
   "source": [
    "Запускаем симуляцию с новым маршрутным заданием"
   ]
  },
  {
   "cell_type": "code",
   "metadata": {
    "ExecuteTime": {
     "end_time": "2025-03-15T15:18:08.401070Z",
     "start_time": "2025-03-15T15:16:27.236735Z"
    }
   },
   "source": [
    "from time import sleep\n",
    "from geopy import Point as GeoPoint\n",
    "\n",
    "\n",
    "from src.queues_dir import QueuesDirectory\n",
    "from src.servos import Servos\n",
    "from src.sitl import SITL\n",
    "from src.cargo_bay import CargoBay\n",
    "from src.mission_planner import MissionPlanner\n",
    "from src.config import LOG_ERROR, LOG_INFO\n",
    "from src.mission_planner_mqtt import MissionSender\n",
    "from src.sitl_mqtt import TelemetrySender\n",
    "from src.system_wrapper import SystemComponentsContainer\n",
    "\n",
    "\n",
    "# координата текущего положения машинки\n",
    "home = GeoPoint(59.8746946570238379,\t29.8298710584640503)\n",
    "\n",
    "\n",
    "# каталог очередей для передачи сообщений между блоками\n",
    "queues_dir = QueuesDirectory() \n",
    "\n",
    "if afcs_present:\n",
    "    mission_sender = MissionSender(\n",
    "        queues_dir=queues_dir, client_id=car_id, log_level=LOG_ERROR)\n",
    "    telemetry_sender = TelemetrySender(\n",
    "        queues_dir=queues_dir, client_id=car_id, log_level=LOG_ERROR)\n",
    "\n",
    "mission_planner = MissionPlanner(\n",
    "    queues_dir, afcs_present=afcs_present, mission=mission)\n",
    "\n",
    "sitl = SITL(\n",
    "    queues_dir=queues_dir, position=home,\n",
    "    car_id=car_id, post_telemetry=afcs_present, log_level=LOG_ERROR)\n",
    "\n",
    "\n",
    "communication_gateway = CommunicationGateway(\n",
    "    queues_dir=queues_dir, log_level=LOG_ERROR)\n",
    "control_system = ControlSystem(queues_dir=queues_dir, log_level=LOG_INFO)\n",
    "\n",
    "navigation_system = NavigationSystem(\n",
    "    queues_dir=queues_dir, log_level=LOG_ERROR)\n",
    "\n",
    "servos = Servos(queues_dir=queues_dir, log_level=LOG_ERROR)\n",
    "cargo_bay = CargoBay(queues_dir=queues_dir, log_level=LOG_INFO)\n",
    "\n",
    "# у нас получилось довольно много блоков, используем класс SystemComponentsContainer\n",
    "# для упрощения рутинной работы с ними - таким образом мы собираем все блоки машинки в одном \"кузове\"\n",
    "system_components = SystemComponentsContainer(\n",
    "    components=[\n",
    "        mission_sender,\n",
    "        telemetry_sender,\n",
    "        sitl,\n",
    "        mission_planner,\n",
    "        navigation_system,\n",
    "        servos,\n",
    "        cargo_bay,\n",
    "        communication_gateway,\n",
    "        control_system\n",
    "    ] if afcs_present else [\n",
    "        sitl,\n",
    "        mission_planner,\n",
    "        navigation_system,\n",
    "        servos,\n",
    "        cargo_bay,\n",
    "        communication_gateway,\n",
    "        control_system\n",
    "    ])\n",
    "\n",
    "system_components.start()\n",
    "\n",
    "# ограничение поездки по времени\n",
    "# параметр sleep - время в секундах,\n",
    "# настройте этот параметр так, чтобы ваша машинка завершила маршрут\n",
    "# в случае превышения времени выполнения ячейки на более чем 10 секунд от заданного, \n",
    "# допустимо перезапустить вычислительное ядро и повторно выполнить весь блокнот, штрафные очки за это не начисляются\n",
    "# при условии, что повторный запуск закончился успешно\n",
    "sleep(100)\n",
    "\n",
    "# останавливаем все компоненты\n",
    "system_components.stop()\n",
    "\n",
    "# удалим все созданные компоненты\n",
    "system_components.clean()"
   ],
   "outputs": [
    {
     "name": "stdout",
     "output_type": "stream",
     "text": [
      "[ИНФО][QUEUES] создан каталог очередей\n",
      "[ИНФО][QUEUES] регистрируем очередь planner.mqtt\n",
      "[ИНФО][QUEUES] регистрируем очередь sitl.mqtt\n",
      "[ИНФО][QUEUES] регистрируем очередь planner\n",
      "[ИНФО][MISSION PLANNER] создана система планирования заданий\n",
      "[ИНФО][QUEUES] регистрируем очередь sitl\n",
      "[ИНФО][QUEUES] регистрируем очередь communication\n",
      "[ИНФО][QUEUES] регистрируем очередь control\n",
      "[ИНФО][CONTROL] создана система управления\n",
      "[ИНФО][QUEUES] регистрируем очередь navigation\n",
      "[ИНФО][QUEUES] регистрируем очередь servos\n",
      "[ИНФО][QUEUES] регистрируем очередь cargo\n",
      "[ИНФО][CARGO] создан компонент грузового отсека, отсек заблокирован\n",
      "[ИНФО][MISSION PLANNER] старт системы планирования заданий\n",
      "[ИНФО][CARGO] старт блока грузового отсека\n",
      "[ИНФО][CONTROL] старт системы управления\n",
      "[ИНФО][MISSION PLANNER] запрошена новая задача, отправляем получателям\n",
      "[ИНФО][MISSION PLANNER] новая задача отправлена в коммуникационный шлюз\n",
      "[ИНФО][CONTROL] установлена новая задача, начинаем следовать по маршруту, текущее время 18:16:27.794758\n",
      "[ИНФО][CONTROL] новая скорость 20 (была 0)\n",
      "[ИНФО][CONTROL] новое направление 177 (было 0)\n",
      "[ИНФО][CONTROL] сегмент пройден\n",
      "[ИНФО][CONTROL] новое направление 201 (было 177)\n",
      "[ИНФО][CONTROL] новое направление 203 (было 201)\n",
      "[ИНФО][CONTROL] новое направление 205 (было 203)\n",
      "[ИНФО][CONTROL] новое направление 206 (было 205)\n",
      "[ИНФО][CONTROL] сегмент пройден\n",
      "[ИНФО][CONTROL] новое направление 231 (было 206)\n",
      "[ИНФО][CONTROL] новое направление 233 (было 231)\n",
      "[ИНФО][CONTROL] новое направление 235 (было 233)\n",
      "[ИНФО][CONTROL] новое направление 236 (было 235)\n",
      "[ИНФО][CONTROL] сегмент пройден\n",
      "[ИНФО][CONTROL] новое направление 255 (было 236)\n",
      "[ИНФО][CONTROL] новое направление 258 (было 255)\n",
      "[ИНФО][CONTROL] новое направление 261 (было 258)\n",
      "[ИНФО][CONTROL] новое направление 262 (было 261)\n",
      "[ИНФО][CONTROL] новое направление 263 (было 262)\n",
      "[ИНФО][CONTROL] новое направление 264 (было 263)\n",
      "[ИНФО][CONTROL] сегмент пройден\n",
      "[ИНФО][CONTROL] новое направление 189 (было 264)\n",
      "[ИНФО][CONTROL] новое направление 182 (было 189)\n",
      "[ИНФО][CONTROL] новое направление 175 (было 182)\n",
      "[ИНФО][CONTROL] новое направление 174 (было 175)\n",
      "[ИНФО][CONTROL] новое направление 172 (было 174)\n",
      "[ИНФО][CONTROL] новое направление 171 (было 172)\n",
      "[ИНФО][CONTROL] новое направление 170 (было 171)\n",
      "[ИНФО][CONTROL] новое направление 169 (было 170)\n",
      "[ИНФО][CONTROL] сегмент пройден\n",
      "[ИНФО][CONTROL] новое направление 103 (было 169)\n",
      "[ИНФО][CONTROL] новое направление 95 (было 103)\n",
      "[ИНФО][CONTROL] новое направление 87 (было 95)\n",
      "[ИНФО][CONTROL] новое направление 84 (было 87)\n",
      "[ИНФО][CONTROL] новое направление 82 (было 84)\n",
      "[ИНФО][CONTROL] новое направление 81 (было 82)\n",
      "[ИНФО][CONTROL] новое направление 79 (было 81)\n",
      "[ИНФО][CONTROL] сегмент пройден\n",
      "[ИНФО][CONTROL] новое направление 151 (было 79)\n",
      "[ИНФО][CONTROL] новое направление 155 (было 151)\n",
      "[ИНФО][CONTROL] новое направление 158 (было 155)\n",
      "[ИНФО][CONTROL] новое направление 159 (было 158)\n",
      "[ИНФО][CONTROL] сегмент пройден\n",
      "[ИНФО][CONTROL] новое направление 196 (было 159)\n",
      "[ИНФО][CONTROL] новое направление 204 (было 196)\n",
      "[ИНФО][CONTROL] новое направление 216 (было 204)\n",
      "[ИНФО][CONTROL] новое направление 222 (было 216)\n",
      "[ИНФО][CONTROL] новое направление 232 (было 222)\n",
      "[ИНФО][CONTROL] сегмент пройден\n",
      "[ИНФО][CONTROL] новое направление 183 (было 232)\n",
      "[ИНФО][CONTROL] новое направление 170 (было 183)\n",
      "[ИНФО][CONTROL] новое направление 150 (было 170)\n",
      "[ИНФО][CONTROL] сегмент пройден\n",
      "[ИНФО][CONTROL] новая скорость 60 (была 20)\n",
      "[ИНФО][CONTROL] новое направление 168 (было 150)\n",
      "[ИНФО][CONTROL] сегмент пройден\n",
      "[ИНФО][CONTROL] новое направление 170 (было 168)\n",
      "[ИНФО][CONTROL] сегмент пройден\n",
      "[ИНФО][CONTROL] новая скорость 20 (была 60)\n",
      "[ИНФО][CONTROL] новое направление 88 (было 170)\n",
      "[ИНФО][CONTROL] новое направление 78 (было 88)\n",
      "[ИНФО][CONTROL] новое направление 68 (было 78)\n",
      "[ИНФО][CONTROL] новое направление 67 (было 68)\n",
      "[ИНФО][CONTROL] новое направление 66 (было 67)\n",
      "[ИНФО][CONTROL] сегмент пройден\n",
      "[ИНФО][CONTROL] новое направление 165 (было 66)\n",
      "[ИНФО][CONTROL] новое направление 171 (было 165)\n",
      "[ИНФО][CONTROL] новое направление 176 (было 171)\n",
      "[ИНФО][CONTROL] новое направление 177 (было 176)\n",
      "[ИНФО][CONTROL] новое направление 178 (было 177)\n",
      "[ИНФО][CONTROL] новое направление 179 (было 178)\n",
      "[ИНФО][CONTROL] сегмент пройден\n",
      "[ИНФО][CONTROL] новая скорость 60 (была 20)\n",
      "[ИНФО][CONTROL] новое направление 261 (было 179)\n",
      "[ИНФО][CONTROL] новое направление 263 (было 261)\n",
      "[ИНФО][CONTROL] новое направление 265 (было 263)\n",
      "[ИНФО][CONTROL] новое направление 266 (было 265)\n",
      "[ИНФО][CONTROL] сегмент пройден\n",
      "[ИНФО][CONTROL] новое направление 256 (было 266)\n",
      "[ИНФО][CONTROL] новое направление 254 (было 256)\n",
      "[ИНФО][CONTROL] новое направление 251 (было 254)\n",
      "[ИНФО][CONTROL] новое направление 250 (было 251)\n",
      "[ИНФО][CONTROL] новое направление 248 (было 250)\n",
      "[ИНФО][CONTROL] новое направление 246 (было 248)\n",
      "[ИНФО][CONTROL] сегмент пройден\n",
      "[ИНФО][CONTROL] новое направление 240 (было 246)\n",
      "[ИНФО][CONTROL] новое направление 238 (было 240)\n",
      "[ИНФО][CONTROL] новое направление 236 (было 238)\n",
      "[ИНФО][CONTROL] новое направление 233 (было 236)\n",
      "[ИНФО][CONTROL] новое направление 227 (было 233)\n",
      "[ИНФО][CONTROL] сегмент пройден\n",
      "[ИНФО][CONTROL] новое направление 153 (было 227)\n",
      "[ИНФО][CONTROL] новое направление 149 (было 153)\n",
      "[ИНФО][CONTROL] новое направление 148 (было 149)\n",
      "[ИНФО][CONTROL] маршрут пройден, текущее время 18:18:01.399154\n",
      "[ИНФО][CONTROL] новая скорость 0.0 (была 60)\n",
      "[ИНФО][CONTROL] новое направление 0 (было 148)\n"
     ]
    }
   ],
   "execution_count": 31
  },
  {
   "cell_type": "markdown",
   "metadata": {},
   "source": [
    "На этом модуль 2 завершён, надеемся, у вас всё получилось! \n",
    "На что можно ещё обратить вниманием - можно ли как-то улучшить маршрут для ускорения доставки? (без нарушения ПДД) - например, использовать более скоростные трассы или срезать какие-то участки.\n",
    "\n",
    "Если идей быстрых улучшений нет, то пришло время перейти к самому интересному модулю и познакомиться с киберпрепятствиями!\n",
    "\n",
    "Для работы над модулем 3 задания откройте блокнот cyberimmunity--autonomous-car-m3."
   ]
  },
  {
   "cell_type": "markdown",
   "metadata": {},
   "source": []
  }
 ],
 "metadata": {
  "datalore": {
   "base_environment": "default",
   "computation_mode": "JUPYTER",
   "package_manager": "pip",
   "packages": [],
   "version": 1
  },
  "kernelspec": {
   "display_name": "Python 3",
   "language": "python",
   "name": "python3"
  },
  "language_info": {
   "codemirror_mode": {
    "name": "ipython",
    "version": 3
   },
   "file_extension": ".py",
   "mimetype": "text/x-python",
   "name": "python",
   "nbconvert_exporter": "python",
   "pygments_lexer": "ipython3",
   "version": "3.8.10"
  }
 },
 "nbformat": 4,
 "nbformat_minor": 4
}
